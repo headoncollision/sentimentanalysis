{
 "cells": [
  {
   "cell_type": "code",
   "execution_count": 1,
   "id": "f5472a6d",
   "metadata": {},
   "outputs": [],
   "source": [
    "import pandas as pd\n",
    "import numpy as np"
   ]
  },
  {
   "cell_type": "code",
   "execution_count": 2,
   "id": "46c1b075",
   "metadata": {},
   "outputs": [],
   "source": [
    "import warnings\n",
    "warnings.filterwarnings('ignore')"
   ]
  },
  {
   "cell_type": "code",
   "execution_count": 3,
   "id": "0bba4d8a",
   "metadata": {},
   "outputs": [],
   "source": [
    "df = pd.read_csv(\"C:/Users/ravis/Downloads/train.csv/train.csv\")\n",
    "data = df[['reviewText','sentiment']]\n",
    "data.dropna(inplace =  True)\n",
    "X = data['reviewText']\n",
    "y = data['sentiment']"
   ]
  },
  {
   "cell_type": "code",
   "execution_count": 20,
   "id": "c3fe4500",
   "metadata": {},
   "outputs": [
    {
     "data": {
      "text/plain": [
       "51592"
      ]
     },
     "execution_count": 20,
     "metadata": {},
     "output_type": "execute_result"
    }
   ],
   "source": [
    "sentiments = np.array(data['sentiment'])\n",
    "(sentiments == 'NEGATIVE').sum()"
   ]
  },
  {
   "cell_type": "code",
   "execution_count": 21,
   "id": "a71a1d1f",
   "metadata": {},
   "outputs": [
    {
     "data": {
      "text/plain": [
       "104719"
      ]
     },
     "execution_count": 21,
     "metadata": {},
     "output_type": "execute_result"
    }
   ],
   "source": [
    "(sentiments == 'POSITIVE').sum()"
   ]
  },
  {
   "cell_type": "code",
   "execution_count": 4,
   "id": "15e199fb",
   "metadata": {},
   "outputs": [],
   "source": [
    "from sklearn.preprocessing import LabelEncoder\n",
    "le = LabelEncoder()\n",
    "y = le.fit_transform(y)"
   ]
  },
  {
   "cell_type": "code",
   "execution_count": 5,
   "id": "fabdfeda",
   "metadata": {},
   "outputs": [],
   "source": [
    "from sklearn.model_selection import train_test_split\n",
    "X_train , X_test , y_train , y_test = train_test_split(X, y, test_size=0.33, random_state=42)"
   ]
  },
  {
   "cell_type": "code",
   "execution_count": 6,
   "id": "21856f22",
   "metadata": {},
   "outputs": [],
   "source": [
    "from sklearn.feature_extraction.text import CountVectorizer , TfidfTransformer\n",
    "from sklearn.linear_model import SGDClassifier\n",
    "cvec = CountVectorizer(analyzer = 'word',ngram_range=(1,3), stop_words='english')\n",
    "tfidf = TfidfTransformer()\n",
    "X_train_trans = cvec.fit_transform(X_train)\n",
    "X_test_trans = cvec.transform(X_test)\n",
    "X_test_trans = tfidf.fit_transform(X_train_trans)\n",
    "X_test_trans = tfidf.transform(X_test_trans)"
   ]
  },
  {
   "cell_type": "code",
   "execution_count": 7,
   "id": "00df9fd7",
   "metadata": {},
   "outputs": [],
   "source": [
    "test =  pd.read_csv(\"C:/Users/ravis/Downloads/test.csv/test.csv\")\n",
    "test.dropna(inplace = True)\n",
    "X_pred = test['reviewText']\n",
    "X_pred_trans = cvec.transform(X_pred)\n",
    "X_pred_trans = tfidf.transform(X_pred_trans)"
   ]
  },
  {
   "cell_type": "code",
   "execution_count": 9,
   "id": "6485fb79",
   "metadata": {},
   "outputs": [
    {
     "data": {
      "text/html": [
       "<div>\n",
       "<style scoped>\n",
       "    .dataframe tbody tr th:only-of-type {\n",
       "        vertical-align: middle;\n",
       "    }\n",
       "\n",
       "    .dataframe tbody tr th {\n",
       "        vertical-align: top;\n",
       "    }\n",
       "\n",
       "    .dataframe thead th {\n",
       "        text-align: right;\n",
       "    }\n",
       "</style>\n",
       "<table border=\"1\" class=\"dataframe\">\n",
       "  <thead>\n",
       "    <tr style=\"text-align: right;\">\n",
       "      <th></th>\n",
       "      <th>Predictions</th>\n",
       "    </tr>\n",
       "  </thead>\n",
       "  <tbody>\n",
       "    <tr>\n",
       "      <th>0</th>\n",
       "      <td>POSITIVE</td>\n",
       "    </tr>\n",
       "    <tr>\n",
       "      <th>1</th>\n",
       "      <td>POSITIVE</td>\n",
       "    </tr>\n",
       "    <tr>\n",
       "      <th>2</th>\n",
       "      <td>POSITIVE</td>\n",
       "    </tr>\n",
       "    <tr>\n",
       "      <th>3</th>\n",
       "      <td>POSITIVE</td>\n",
       "    </tr>\n",
       "    <tr>\n",
       "      <th>4</th>\n",
       "      <td>POSITIVE</td>\n",
       "    </tr>\n",
       "    <tr>\n",
       "      <th>5</th>\n",
       "      <td>POSITIVE</td>\n",
       "    </tr>\n",
       "    <tr>\n",
       "      <th>6</th>\n",
       "      <td>POSITIVE</td>\n",
       "    </tr>\n",
       "    <tr>\n",
       "      <th>7</th>\n",
       "      <td>POSITIVE</td>\n",
       "    </tr>\n",
       "    <tr>\n",
       "      <th>8</th>\n",
       "      <td>POSITIVE</td>\n",
       "    </tr>\n",
       "    <tr>\n",
       "      <th>9</th>\n",
       "      <td>POSITIVE</td>\n",
       "    </tr>\n",
       "  </tbody>\n",
       "</table>\n",
       "</div>"
      ],
      "text/plain": [
       "  Predictions\n",
       "0    POSITIVE\n",
       "1    POSITIVE\n",
       "2    POSITIVE\n",
       "3    POSITIVE\n",
       "4    POSITIVE\n",
       "5    POSITIVE\n",
       "6    POSITIVE\n",
       "7    POSITIVE\n",
       "8    POSITIVE\n",
       "9    POSITIVE"
      ]
     },
     "execution_count": 9,
     "metadata": {},
     "output_type": "execute_result"
    }
   ],
   "source": [
    "sgdclf = SGDClassifier(random_state = 42 , \n",
    "                       loss = 'modified_huber' , \n",
    "                       eta0 = 0.0005136658609638782 , \n",
    "                       alpha = 7.704366940821582e-05 , \n",
    "                       learning_rate = 'adaptive' , \n",
    "                       penalty = 'l2')\n",
    "sgdclf.fit(X_train_trans , y_train)\n",
    "y_pred = sgdclf.predict(X_pred_trans)\n",
    "y_pred = le.inverse_transform(y_pred)\n",
    "predict = pd.DataFrame(y_pred , columns = ['Predictions'])\n",
    "predict.head(10)"
   ]
  },
  {
   "cell_type": "code",
   "execution_count": 26,
   "id": "781e8cf3",
   "metadata": {},
   "outputs": [
    {
     "name": "stdout",
     "output_type": "stream",
     "text": [
      "close the shop and never do business again\n",
      "NEGATIVE\n"
     ]
    }
   ],
   "source": [
    "corpus = input()\n",
    "corpus = [corpus]\n",
    "corp_trans = cvec.transform(corpus)\n",
    "corp_trans = tfidf.transform(corp_trans)\n",
    "res = sgdclf.predict(corp_trans)\n",
    "print(le.inverse_transform(res)[0])"
   ]
  },
  {
   "cell_type": "code",
   "execution_count": 17,
   "id": "16305627",
   "metadata": {},
   "outputs": [
    {
     "name": "stdout",
     "output_type": "stream",
     "text": [
      "7491 45314\n"
     ]
    }
   ],
   "source": [
    "num_zeros = (y_pred == 'NEGATIVE').sum()\n",
    "num_ones = (y_pred == 'POSITIVE').sum()\n",
    "print(num_zeros , num_ones)"
   ]
  },
  {
   "cell_type": "code",
   "execution_count": 28,
   "id": "47b64fe4",
   "metadata": {},
   "outputs": [
    {
     "name": "stdout",
     "output_type": "stream",
     "text": [
      "Requirement already satisfied: joblib in c:\\users\\ravis\\anaconda3\\lib\\site-packages (1.1.0)\n"
     ]
    }
   ],
   "source": [
    "!pip install joblib"
   ]
  },
  {
   "cell_type": "code",
   "execution_count": 31,
   "id": "31b80a0d",
   "metadata": {},
   "outputs": [
    {
     "data": {
      "text/plain": [
       "['model.sav']"
      ]
     },
     "execution_count": 31,
     "metadata": {},
     "output_type": "execute_result"
    }
   ],
   "source": [
    "import joblib\n",
    "joblib.dump(sgdclf, \"model.sav\")"
   ]
  }
 ],
 "metadata": {
  "kernelspec": {
   "display_name": "Python 3 (ipykernel)",
   "language": "python",
   "name": "python3"
  },
  "language_info": {
   "codemirror_mode": {
    "name": "ipython",
    "version": 3
   },
   "file_extension": ".py",
   "mimetype": "text/x-python",
   "name": "python",
   "nbconvert_exporter": "python",
   "pygments_lexer": "ipython3",
   "version": "3.9.13"
  }
 },
 "nbformat": 4,
 "nbformat_minor": 5
}
