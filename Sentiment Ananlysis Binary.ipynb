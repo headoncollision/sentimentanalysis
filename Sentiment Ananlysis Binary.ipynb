{
 "cells": [
  {
   "cell_type": "code",
   "execution_count": 1,
   "id": "270aebc8",
   "metadata": {},
   "outputs": [],
   "source": [
    "import warnings\n",
    "warnings.filterwarnings('ignore')"
   ]
  },
  {
   "cell_type": "code",
   "execution_count": 2,
   "id": "dceb3722",
   "metadata": {},
   "outputs": [],
   "source": [
    "import pandas as pd\n",
    "import numpy as np"
   ]
  },
  {
   "cell_type": "code",
   "execution_count": 3,
   "id": "94b41add",
   "metadata": {},
   "outputs": [
    {
     "data": {
      "text/plain": [
       "(162758, 5)"
      ]
     },
     "execution_count": 3,
     "metadata": {},
     "output_type": "execute_result"
    }
   ],
   "source": [
    "df = pd.read_csv(\"C:/Users/ravis/Downloads/train.csv/train.csv\")\n",
    "df.shape"
   ]
  },
  {
   "cell_type": "code",
   "execution_count": 4,
   "id": "26b488bc",
   "metadata": {},
   "outputs": [
    {
     "data": {
      "text/plain": [
       "Index(['movieid', 'reviewerName', 'isFrequentReviewer', 'reviewText',\n",
       "       'sentiment'],\n",
       "      dtype='object')"
      ]
     },
     "execution_count": 4,
     "metadata": {},
     "output_type": "execute_result"
    }
   ],
   "source": [
    "df.columns"
   ]
  },
  {
   "cell_type": "code",
   "execution_count": 5,
   "id": "07b684a0",
   "metadata": {},
   "outputs": [
    {
     "data": {
      "text/html": [
       "<div>\n",
       "<style scoped>\n",
       "    .dataframe tbody tr th:only-of-type {\n",
       "        vertical-align: middle;\n",
       "    }\n",
       "\n",
       "    .dataframe tbody tr th {\n",
       "        vertical-align: top;\n",
       "    }\n",
       "\n",
       "    .dataframe thead th {\n",
       "        text-align: right;\n",
       "    }\n",
       "</style>\n",
       "<table border=\"1\" class=\"dataframe\">\n",
       "  <thead>\n",
       "    <tr style=\"text-align: right;\">\n",
       "      <th></th>\n",
       "      <th>reviewText</th>\n",
       "      <th>sentiment</th>\n",
       "    </tr>\n",
       "  </thead>\n",
       "  <tbody>\n",
       "    <tr>\n",
       "      <th>0</th>\n",
       "      <td>Henry Selick’s first movie since 2009’s Corali...</td>\n",
       "      <td>POSITIVE</td>\n",
       "    </tr>\n",
       "    <tr>\n",
       "      <th>1</th>\n",
       "      <td>With a cast that reads like the Vogue Oscar pa...</td>\n",
       "      <td>NEGATIVE</td>\n",
       "    </tr>\n",
       "    <tr>\n",
       "      <th>2</th>\n",
       "      <td>Creed II does not give us anything but another...</td>\n",
       "      <td>POSITIVE</td>\n",
       "    </tr>\n",
       "    <tr>\n",
       "      <th>3</th>\n",
       "      <td>I know what you're thinking, but this is no Li...</td>\n",
       "      <td>POSITIVE</td>\n",
       "    </tr>\n",
       "    <tr>\n",
       "      <th>4</th>\n",
       "      <td>Director Fernando Meirelles tells the story wi...</td>\n",
       "      <td>POSITIVE</td>\n",
       "    </tr>\n",
       "  </tbody>\n",
       "</table>\n",
       "</div>"
      ],
      "text/plain": [
       "                                          reviewText sentiment\n",
       "0  Henry Selick’s first movie since 2009’s Corali...  POSITIVE\n",
       "1  With a cast that reads like the Vogue Oscar pa...  NEGATIVE\n",
       "2  Creed II does not give us anything but another...  POSITIVE\n",
       "3  I know what you're thinking, but this is no Li...  POSITIVE\n",
       "4  Director Fernando Meirelles tells the story wi...  POSITIVE"
      ]
     },
     "execution_count": 5,
     "metadata": {},
     "output_type": "execute_result"
    }
   ],
   "source": [
    "data = df[['reviewText','sentiment']]\n",
    "data.head()"
   ]
  },
  {
   "cell_type": "code",
   "execution_count": 6,
   "id": "0ff45245",
   "metadata": {},
   "outputs": [
    {
     "name": "stdout",
     "output_type": "stream",
     "text": [
      "<class 'pandas.core.frame.DataFrame'>\n",
      "Int64Index: 156311 entries, 0 to 162757\n",
      "Data columns (total 2 columns):\n",
      " #   Column      Non-Null Count   Dtype \n",
      "---  ------      --------------   ----- \n",
      " 0   reviewText  156311 non-null  object\n",
      " 1   sentiment   156311 non-null  object\n",
      "dtypes: object(2)\n",
      "memory usage: 3.6+ MB\n"
     ]
    }
   ],
   "source": [
    "data.dropna(inplace =  True)\n",
    "data.info()"
   ]
  },
  {
   "cell_type": "code",
   "execution_count": 7,
   "id": "83dd1553",
   "metadata": {},
   "outputs": [],
   "source": [
    "X = data['reviewText']\n",
    "y = data['sentiment']"
   ]
  },
  {
   "cell_type": "code",
   "execution_count": 8,
   "id": "d1e36647",
   "metadata": {},
   "outputs": [
    {
     "data": {
      "text/plain": [
       "array([1, 0, 1, ..., 1, 0, 1])"
      ]
     },
     "execution_count": 8,
     "metadata": {},
     "output_type": "execute_result"
    }
   ],
   "source": [
    "from sklearn.preprocessing import LabelEncoder\n",
    "le = LabelEncoder()\n",
    "y = le.fit_transform(y)\n",
    "y"
   ]
  },
  {
   "cell_type": "code",
   "execution_count": 9,
   "id": "e3799862",
   "metadata": {},
   "outputs": [],
   "source": [
    "from sklearn.model_selection import train_test_split\n",
    "X_train , X_test , y_train , y_test = train_test_split(X, y, test_size=0.33, random_state=42)"
   ]
  },
  {
   "cell_type": "code",
   "execution_count": 10,
   "id": "95c95460",
   "metadata": {},
   "outputs": [
    {
     "name": "stdout",
     "output_type": "stream",
     "text": [
      "F-1 score of model with n-gram range of (1, 1): 0.795\n",
      "F-1 score of model with n-gram range of (1, 2): 0.8001\n",
      "F-1 score of model with n-gram range of (1, 3): 0.8011\n",
      "F-1 score of model with n-gram range of (1, 4): 0.8013\n",
      "F-1 score of model with n-gram range of (1, 5): 0.8\n",
      "F-1 score of model with n-gram range of (1, 6): 0.7988\n",
      "F-1 score of model with n-gram range of (1, 7): 0.7981\n",
      "F-1 score of model with n-gram range of (1, 8): 0.798\n",
      "F-1 score of model with n-gram range of (1, 9): 0.7967\n",
      "F-1 score of model with n-gram range of (1, 10): 0.7973\n"
     ]
    }
   ],
   "source": [
    "from sklearn.feature_extraction.text import CountVectorizer , TfidfTransformer\n",
    "from sklearn.linear_model import SGDClassifier\n",
    "from sklearn.metrics import f1_score\n",
    "\n",
    "for N in range(1,11):\n",
    "\n",
    "    cv = CountVectorizer(analyzer = 'word',ngram_range=(1,N), stop_words='english')\n",
    "    X_train_cv = cv.fit_transform(X_train)\n",
    "    X_test_cv = cv.transform(X_test)\n",
    "\n",
    "    clf = SGDClassifier(random_state = 42)\n",
    "    clf.fit(X_train_cv, y_train)\n",
    "    y_pred = clf.predict(X_test_cv)\n",
    "    \n",
    "    score = np.round(f1_score(y_test, y_pred, average='micro'),4)\n",
    "    print('F-1 score of model with n-gram range of {}: {}'.format((1,N), score))"
   ]
  },
  {
   "cell_type": "code",
   "execution_count": 22,
   "id": "8a691e9b",
   "metadata": {},
   "outputs": [],
   "source": [
    "cvec = CountVectorizer(analyzer = 'word',ngram_range=(1,3), stop_words='english')\n",
    "tfidf = TfidfTransformer()\n",
    "X_train_trans = cvec.fit_transform(X_train)\n",
    "X_test_trans = cvec.fit_transform(X_test)\n",
    "X_test_trans = tfidf.fit_transform(X_train_trans)\n",
    "X_test_trans = tfidf.fit_transform(X_test_trans)"
   ]
  },
  {
   "cell_type": "code",
   "execution_count": 12,
   "id": "bdbf4690",
   "metadata": {},
   "outputs": [
    {
     "data": {
      "text/plain": [
       "RandomizedSearchCV(cv=5, estimator=SGDClassifier(random_state=42), n_iter=100,\n",
       "                   param_distributions={'alpha': <scipy.stats._distn_infrastructure.rv_continuous_frozen object at 0x000001C61B27F670>,\n",
       "                                        'eta0': <scipy.stats._distn_infrastructure.rv_continuous_frozen object at 0x000001C630585CD0>,\n",
       "                                        'learning_rate': ['optimal', 'adaptive',\n",
       "                                                          'invscaling'],\n",
       "                                        'loss': ['hinge', 'log',\n",
       "                                                 'modified_huber',\n",
       "                                                 'squared_hinge',\n",
       "                                                 'perceptron'],\n",
       "                                        'penalty': ['l1', 'l2', 'elastic_net']})"
      ]
     },
     "execution_count": 12,
     "metadata": {},
     "output_type": "execute_result"
    }
   ],
   "source": [
    "from sklearn.model_selection import RandomizedSearchCV\n",
    "from scipy.stats import uniform\n",
    "sgdclf = SGDClassifier(random_state = 42)\n",
    "params = dict(loss = ['hinge' , 'log' , 'modified_huber' , 'squared_hinge' , 'perceptron'] , \n",
    "              learning_rate = ['optimal' , 'adaptive' , 'invscaling'] , \n",
    "              eta0 = uniform(loc = 1e-7 , scale = 1e-2) , \n",
    "              penalty = ['l1' , 'l2' , 'elastic_net'] , \n",
    "              alpha = uniform(loc = 1e-6 , scale = 1e-4))\n",
    "ransearchcv = RandomizedSearchCV(estimator = sgdclf , \n",
    "                                param_distributions = params,\n",
    "                                cv = 5,\n",
    "                                n_iter = 100)\n",
    "ransearchcv.fit(X_train_trans , y_train)\n",
    "#y_pred = ransearchcv.predict(X_test_trans)\n",
    "#f1_score(y_test , y_pred)"
   ]
  },
  {
   "cell_type": "code",
   "execution_count": 13,
   "id": "cf02194e",
   "metadata": {},
   "outputs": [
    {
     "name": "stdout",
     "output_type": "stream",
     "text": [
      "The best parameters are:\n",
      "{'alpha': 7.704366940821582e-05,\n",
      " 'eta0': 0.0005136658609638782,\n",
      " 'learning_rate': 'adaptive',\n",
      " 'loss': 'modified_huber',\n",
      " 'penalty': 'l2'}\n"
     ]
    }
   ],
   "source": [
    "from pprint import pprint\n",
    "\n",
    "print(\"The best parameters are:\")\n",
    "pprint(ransearchcv.best_params_)"
   ]
  },
  {
   "cell_type": "code",
   "execution_count": 18,
   "id": "899e82fa",
   "metadata": {},
   "outputs": [
    {
     "name": "stdout",
     "output_type": "stream",
     "text": [
      "The test accuracy score of the best model is 0.99\n"
     ]
    }
   ],
   "source": [
    "accuracy = ransearchcv.score(X_train_trans, y_train)\n",
    "\n",
    "print(f\"The test accuracy score of the best model is {accuracy:.2f}\")"
   ]
  }
 ],
 "metadata": {
  "kernelspec": {
   "display_name": "Python 3 (ipykernel)",
   "language": "python",
   "name": "python3"
  },
  "language_info": {
   "codemirror_mode": {
    "name": "ipython",
    "version": 3
   },
   "file_extension": ".py",
   "mimetype": "text/x-python",
   "name": "python",
   "nbconvert_exporter": "python",
   "pygments_lexer": "ipython3",
   "version": "3.9.13"
  }
 },
 "nbformat": 4,
 "nbformat_minor": 5
}
